{
 "cells": [
  {
   "cell_type": "code",
   "execution_count": null,
   "id": "b135ea11",
   "metadata": {},
   "outputs": [
    {
     "ename": "SyntaxError",
     "evalue": "(unicode error) 'unicodeescape' codec can't decode bytes in position 2-3: truncated \\UXXXXXXXX escape (2540422490.py, line 5)",
     "output_type": "error",
     "traceback": [
      "\u001b[1;36m  Cell \u001b[1;32mIn[2], line 5\u001b[1;36m\u001b[0m\n\u001b[1;33m    forecast = pd.read_csv(\"C:\\Users\\Kaviy\\OneDrive\\Desktop\\coldstart-forecasting\\outputs\\forecast\", parse_dates=[\"week_start\"])\u001b[0m\n\u001b[1;37m                                                                                                   ^\u001b[0m\n\u001b[1;31mSyntaxError\u001b[0m\u001b[1;31m:\u001b[0m (unicode error) 'unicodeescape' codec can't decode bytes in position 2-3: truncated \\UXXXXXXXX escape\n"
     ]
    }
   ],
   "source": [
    "import pandas as pd\n",
    "import matplotlib.pyplot as plt\n",
    "\n",
    "# Load your forecast output\n",
    "forecast = pd.read_csv(\"outputs/forecast.csv\", parse_dates=[\"week_start\"])\n",
    "\n",
    "plt.figure(figsize=(12,6))\n",
    "for sku in forecast[\"sku_id\"].unique():\n",
    "    sku_data = forecast[forecast[\"sku_id\"] == sku]\n",
    "    plt.plot(sku_data[\"week_start\"], sku_data[\"forecast_units\"], marker=\"o\", label=sku)\n",
    "\n",
    "plt.title(\"13-Week Demand Forecast for Jaipur (by SKU)\")\n",
    "plt.xlabel(\"Week Start\")\n",
    "plt.ylabel(\"Forecasted Units\")\n",
    "plt.legend(title=\"SKU\")\n",
    "plt.grid(True)\n",
    "plt.xticks(rotation=45)\n",
    "plt.tight_layout()\n",
    "plt.savefig(\"outputs/plots/forecast_trends.png\")\n",
    "plt.show()\n"
   ]
  }
 ],
 "metadata": {
  "kernelspec": {
   "display_name": "Python 3",
   "language": "python",
   "name": "python3"
  },
  "language_info": {
   "codemirror_mode": {
    "name": "ipython",
    "version": 3
   },
   "file_extension": ".py",
   "mimetype": "text/x-python",
   "name": "python",
   "nbconvert_exporter": "python",
   "pygments_lexer": "ipython3",
   "version": "3.10.0"
  }
 },
 "nbformat": 4,
 "nbformat_minor": 5
}
